{
 "cells": [
  {
   "cell_type": "code",
   "execution_count": 3,
   "id": "43429886",
   "metadata": {},
   "outputs": [],
   "source": [
    "import pandas as pd\n",
    "import os\n",
    "import glob\n",
    "from konlpy.tag import Okt, Kkma, Komoran\n",
    "from collections import Counter"
   ]
  },
  {
   "cell_type": "code",
   "execution_count": 4,
   "id": "433233c0",
   "metadata": {},
   "outputs": [],
   "source": [
    "def createDirectory(directory): \n",
    "    \"\"\" 새로운 폴더를 생성하는 함수 \"\"\"\n",
    "    try: \n",
    "        if not os.path.exists(directory): \n",
    "            os.makedirs(directory) \n",
    "    except OSError: \n",
    "        print(\"Error: Failed to create the directory.\")"
   ]
  },
  {
   "cell_type": "code",
   "execution_count": 5,
   "id": "15bf4f55",
   "metadata": {},
   "outputs": [],
   "source": [
    "def analysis_noun_person(df, stopwords):\n",
    "    \"\"\" (의원별) 명사를 추출하여 각 명사별 개수를 추출해주는 함수. \"\"\"\n",
    "    okt = Okt()\n",
    "    dict_person = {}\n",
    "    d = {}\n",
    "\n",
    "    for i in range(len(df['발언내용'])):        \n",
    "        person = df.iloc[i, 7]\n",
    "        line = df.iloc[i, 9]\n",
    "    \n",
    "        nouns = okt.nouns(line)    \n",
    "        \n",
    "        \"\"\" 한글자 단어, 불용어는 제외하고 저장함. \"\"\"\n",
    "        nouns = [j for j in nouns if len(j) >= 2 and j not in stopwords]\n",
    "        \n",
    "        if person not in dict_person:\n",
    "            dict_person[person] = nouns\n",
    "        else:\n",
    "            dict_person[person] += nouns\n",
    "        \n",
    "    for j in dict_person:        \n",
    "        d[j] = Counter(dict_person[j])\n",
    "    \n",
    "    return d"
   ]
  },
  {
   "cell_type": "code",
   "execution_count": 6,
   "id": "c8445fb9",
   "metadata": {},
   "outputs": [],
   "source": [
    "def make_df_person(c, p_name):\n",
    "    \"\"\" 정해진 포맷에 맞게 데이터프레임을 생성해주는 함수. (의원 추가) \"\"\"\n",
    "    \n",
    "    d = pd.DataFrame.from_dict(c, orient='index').reset_index()\n",
    "    \n",
    "    ''' 발언한 적은 있지만 명사에 대한 결과가 없는 경우 단어가 잡히지 않음.\n",
    "    이 경우 빈 데이터프레임으로 나와 빈 데이터프레임을 반환하는 것으로 예외처리함. \n",
    "    ex) 전체 회의에서 '네, 알겠습니다.' 만 대답한 경우 '''\n",
    "    try:\n",
    "        d.columns = ['단어', '빈도수']\n",
    "    except ValueError:\n",
    "        # 빈 데이터프레임 반환\n",
    "        return pd.DataFrame()\n",
    "    \n",
    "    count_column = df['회수']\n",
    "    d['의원명'] = p_name\n",
    "    d = pd.concat([d, count_column], axis = 1).dropna()\n",
    "    d = d[['회수', '의원명', '단어', '빈도수']]\n",
    "    \n",
    "    return d  "
   ]
  },
  {
   "cell_type": "code",
   "execution_count": 18,
   "id": "cc99a261",
   "metadata": {},
   "outputs": [
    {
     "name": "stdout",
     "output_type": "stream",
     "text": [
      "서울특별시의회 회의록 제277회[정례회] (2017.11.01 ~ 2017.12.20) 완료\n",
      "서울특별시의회 회의록 제284회[정례회] (2018.11.01 ~ 2018.12.20) 완료\n",
      "서울특별시의회 회의록 제290회[정례회] (2019.11.01 ~ 2019.12.20) 완료\n",
      "서울특별시의회 회의록 제298회[정례회](2020.11.02 ~ 2020.12.22) 완료\n",
      "서울특별시의회 회의록 제303회[정례회](2021.11.01 ~ 2021.12.27) 완료\n"
     ]
    }
   ],
   "source": [
    "location = os.getcwd()\n",
    "\"\"\"\n",
    "os.listdir -> 폴더 내 파일의 이름만을 가져오기 위함.\n",
    "glob.glob ->  조건에 맞는 파일명을 경로를 포함하여 가져오기 위함.\n",
    "ex) glob.glob('dir/*.txt') -> 모든 txt파일 가져옴.\n",
    "* -> 임의 길이의 모든 문자열.\n",
    "\"\"\"\n",
    "fname_list = os.listdir(os.path.join(location, \"회의록_모음\"))\n",
    "file_list = glob.glob(os.path.join(location, \"회의록_모음/*\"))\n",
    "\n",
    "# 원하는 폴더 이름 설정.\n",
    "dir_name = \"위원 별 단어 빈도 분석\"\n",
    "createDirectory(dir_name)\n",
    "dir_high = os.path.join(location, dir_name)\n",
    "\n",
    "s = pd.read_csv(\"불용어사전_통합본.csv\", encoding = 'euc-kr')\n",
    "stopwords_1_2 = set(s['불용어'])\n",
    "\n",
    "\n",
    "for i in range(len(fname_list)):\n",
    "    num = fname_list[i][:-4]\n",
    "    dir_low = os.path.join(dir_high, num)\n",
    "    createDirectory(dir_low)\n",
    "    \n",
    "    df = pd.read_csv(file_list[i], encoding = 'euc-kr')    \n",
    "    result_n_p = analysis_noun_person(df, stopwords_1_2)\n",
    "    # 빈 데이터프레임이 출력되는(유의미한 명사가 회의에서 없었음.) 경우 확인.\n",
    "    print([i for i in result_n_p if len(result_n_p[i]) < 1])\n",
    "    keys = list(result_n_p.keys())\n",
    "    \n",
    "    for n in range(len(keys)):\n",
    "        name = keys[n]      \n",
    "        make_df_person(result_n_p[name], name).to_csv(\n",
    "            os.path.join(dir_low, \"%s.csv\" %  name), index = False, encoding = 'euc-kr')\n",
    "    print(\"%s 완료\" % num)"
   ]
  },
  {
   "cell_type": "code",
   "execution_count": null,
   "id": "a4be6524",
   "metadata": {},
   "outputs": [],
   "source": []
  }
 ],
 "metadata": {
  "kernelspec": {
   "display_name": "Python 3 (ipykernel)",
   "language": "python",
   "name": "python3"
  },
  "language_info": {
   "codemirror_mode": {
    "name": "ipython",
    "version": 3
   },
   "file_extension": ".py",
   "mimetype": "text/x-python",
   "name": "python",
   "nbconvert_exporter": "python",
   "pygments_lexer": "ipython3",
   "version": "3.9.7"
  }
 },
 "nbformat": 4,
 "nbformat_minor": 5
}
