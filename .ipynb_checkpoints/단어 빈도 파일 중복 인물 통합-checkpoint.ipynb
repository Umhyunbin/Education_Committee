{
 "cells": [
  {
   "cell_type": "code",
   "execution_count": 1,
   "id": "e32d5cd0",
   "metadata": {},
   "outputs": [],
   "source": [
    "import pandas as pd\n",
    "import os\n",
    "import glob"
   ]
  },
  {
   "cell_type": "code",
   "execution_count": 2,
   "id": "b3697c6e",
   "metadata": {},
   "outputs": [],
   "source": [
    "def createDirectory(directory): \n",
    "    \"\"\" 새로운 폴더를 생성하는 함수 \"\"\"\n",
    "    try: \n",
    "        if not os.path.exists(directory): \n",
    "            os.makedirs(directory) \n",
    "    except OSError: \n",
    "        print(\"Error: Failed to create the directory.\")"
   ]
  },
  {
   "cell_type": "code",
   "execution_count": 3,
   "id": "397f4ee1",
   "metadata": {},
   "outputs": [],
   "source": [
    "def show(d):\n",
    "    \"\"\" 위원 목록, 중복 인원 수를 보여주는 함수 \"\"\"\n",
    "    u = d['발언자'].unique()\n",
    "    u2 = [w[:3] if w[-2:] == \"위원\" else w[-3:] for w in u]\n",
    "    set_u2 = set(u2)\n",
    "    li_set_u2 = list(set_u2)\n",
    "    dup_cnt = len(u2) - len(set_u2)\n",
    "    print(\"==== 위원 리스트 ====\")\n",
    "    print(sorted(u2))\n",
    "    print(\"==== 중복 인원수 ====\")\n",
    "    print(dup_cnt)\n",
    "    dup_list = [p for p in set_u2 if u2.count(p) > 1]\n",
    "    print(\"==== 중복 인원 ====\")\n",
    "    print(sorted(dup_list))\n",
    "    print()"
   ]
  },
  {
   "cell_type": "code",
   "execution_count": 4,
   "id": "3ff608ae",
   "metadata": {},
   "outputs": [],
   "source": [
    "def freq_plus(p1, p2):\n",
    "    \"\"\" 중복 인원에 대한 여러 파일의 단어 빈도수를 합산하여 반환하는 함수. \"\"\"\n",
    "    wf = p1[['단어', '빈도수']]\n",
    "    name = p1['의원명'].iloc[0]\n",
    "    zip_dict =  dict([(a,b) for a,b in zip(wf['단어'],wf['빈도수'])])\n",
    "\n",
    "    for i in range(len(p2)):\n",
    "        word = p2.iloc[i, 2]\n",
    "        freq = p2.iloc[i, 3]\n",
    "        if word in zip_dict:\n",
    "            zip_dict[word] += freq\n",
    "        else:\n",
    "            zip_dict[word] = freq\n",
    "    \n",
    "    return make_df_person(zip_dict, name)"
   ]
  },
  {
   "cell_type": "code",
   "execution_count": 8,
   "id": "d137f227",
   "metadata": {},
   "outputs": [],
   "source": [
    "def make_df_person(c, p_name):\n",
    "    \"\"\" 정해진 포맷에 맞게 데이터프레임을 생성해주는 함수. (의원 추가) \"\"\"\n",
    "    \n",
    "    d = pd.DataFrame.from_dict(c, orient='index').reset_index()\n",
    "    \n",
    "    ''' 발언한 적은 있지만 명사에 대한 결과가 없는 경우 단어가 잡히지 않음.\n",
    "    이 경우 빈 데이터프레임으로 나와 빈 데이터프레임을 반환하는 것으로 예외처리함. \n",
    "    ex) 전체 회의에서 '네, 알겠습니다.' 만 대답한 경우 '''\n",
    "    try:\n",
    "        d.columns = ['단어', '빈도수']\n",
    "    except ValueError:\n",
    "        # 빈 데이터프레임 반환\n",
    "        return pd.DataFrame()\n",
    "    \n",
    "    count_column = df['회수']\n",
    "    d['의원명'] = p_name\n",
    "    d = pd.concat([d, count_column], axis = 1).dropna()\n",
    "    d = d[['회수', '의원명', '단어', '빈도수']]\n",
    "    \n",
    "    return d  "
   ]
  },
  {
   "cell_type": "markdown",
   "id": "36c2c5ab",
   "metadata": {},
   "source": [
    "### 2017년 이름 중 '양천)'은 이름 형식을 지키지 않은 예외 케이스. 중복 인원이 아닌 것을 확인함."
   ]
  },
  {
   "cell_type": "code",
   "execution_count": 5,
   "id": "7348aa32",
   "metadata": {},
   "outputs": [
    {
     "name": "stdout",
     "output_type": "stream",
     "text": [
      "서울특별시의회 회의록 제277회[정례회] (2017.11.01 ~ 2017.12.20)\n",
      "==== 위원 리스트 ====\n",
      "['강구덕', '강성언', '김광선', '김동욱', '김병혁', '김생환', '김석일', '김선주', '김선희', '김수득', '김시영', '김양주', '김재숙', '김재숙', '김진수', '김형태', '김희선', '문형주', '민정숙', '박기열', '박연선', '박혜자', '백종대', '손영순', '송재형', '송재형', '신재웅', '안은용', '안재홍', '양천)', '양희두', '오경환', '유재준', '윤석명', '윤오영', '이강태', '이경희', '이길환', '이무수', '이민종', '이상수', '이숙자', '이연주', '이용환', '이재관', '이재근', '이정훈', '이종배', '임세훈', '임영식', '장인홍', '장인홍', '전병화', '전종보', '전창신', '정병익', '정병익', '정인순', '정재헌', '정해철', '정혜손', '정호영', '조영상', '조원익', '조희연', '진영학', '최광락', '최영식', '허기회', '홍민표', '황현택']\n",
      "==== 중복 인원수 ====\n",
      "4\n",
      "==== 중복 인원 ====\n",
      "['김재숙', '송재형', '장인홍', '정병익']\n",
      "\n",
      "서울특별시의회 회의록 제284회[정례회] (2018.11.01 ~ 2018.12.20)\n",
      "==== 위원 리스트 ====\n",
      "[' 전희', '강동호', '강연흥', '권미애', '권성연', '권순선', '김경 ', '김광균', '김광미', '김수규', '김승영', '김시영', '김양주', '김원찬', '김진수', '김현철', '김형태', '민계홍', '민병관', '박건호', '박건호', '박광훈', '박혜자', '백종대', '서경수', '송재범', '신승인', '심금순', '양민규', '양희두', '여명 ', '윤오영', '이무수', '이민종', '이병호', '이연주', '이재근', '이정순', '이주영', '이혜련', '임광빈', '임찬식', '장상기', '장석윤', '장석진', '장인홍', '전병주', '정영철', '정재헌', '정혜손', '조상호', '조성남', '조희연', '채유미', '최기찬', '최명규', '최선 ', '최영식', '한규하', '한민호', '한봉희', '한창화', '홍민표', '황인구', '황인구', '황현택']\n",
      "==== 중복 인원수 ====\n",
      "2\n",
      "==== 중복 인원 ====\n",
      "['박건호', '황인구']\n",
      "\n",
      "서울특별시의회 회의록 제290회[정례회] (2019.11.01 ~ 2019.12.20)\n",
      "==== 위원 리스트 ====\n",
      "[' 성철', '강연흥', '강영숙', '권미애', '권성연', '권순선', '김경 ', '김범준', '김수규', '김원찬', '김재환', '김재환', '김종화', '김종희', '김중락', '김창범', '김현철', '김형배', '나용주', '민계홍', '박상근', '박연희', '박은경', '박혜자', '백정흠', '선종복', '손창호', '송재범', '신승인', '심금순', '양민규', '엄동환', '여명 ', '오동훈', '오필순', '유재준', '윤여신', '이길환', '이민종', '이병호', '이숙자', '이연주', '이윤복', '이정순', '이종탁', '이화성', '장상기', '장석윤', '장인홍', '전병주', '전병화', '정영철', '정해철', '조상호', '조용훈', '조희연', '채유미', '최기찬', '최선 ', '최인수', '탁현주', '한미라', '한민호', '함영기', '허일만', '황인구']\n",
      "==== 중복 인원수 ====\n",
      "1\n",
      "==== 중복 인원 ====\n",
      "['김재환']\n",
      "\n",
      "서울특별시의회 회의록 제298회[정례회](2020.11.02 ~ 2020.12.22)\n",
      "==== 위원 리스트 ====\n",
      "['강경숙', '강연실', '강연흥', '권성연', '권순선', '김덕희', '김상진', '김생환', '김수규', '김영철', '김용연', '김용연', '김용연', '김원식', '김재환', '김정애', '김중락', '김형배', '문영민', '박상근', '백정흠', '성현석', '손영순', '송형세', '양민규', '양영식', '오세규', '오필순', '우순애', '이길환', '이동현', '이민종', '이석주', '이조복', '이종탁', '이호대', '이화성', '임유원', '전병주', '전병주', '정해철', '조용훈', '조장래', '조호규', '조희연', '최규애', '최기찬', '최춘옥', '황인구']\n",
      "==== 중복 인원수 ====\n",
      "3\n",
      "==== 중복 인원 ====\n",
      "['김용연', '전병주']\n",
      "\n",
      "서울특별시의회 회의록 제303회[정례회](2021.11.01 ~ 2021.12.27)\n",
      "==== 위원 리스트 ====\n",
      "['강경숙', '강연실', '고영갑', '고효선', '권순선', '김규태', '김덕희', '김상진', '김생환', '김수규', '김연배', '김용연', '김용연', '김원식', '김재환', '김형배', '문영민', '백미원', '백해룡', '서경수', '성현석', '송형세', '안윤호', '양민규', '오정훈', '오필순', '이길환', '이동현', '이명하', '이민종', '이병호', '이석주', '이용식', '이조복', '이종탁', '이호대', '임영식', '전병주', '전병주', '조성래', '조영상', '최기찬', '최선희', '최승복', '최웅장', '한만중', '한창화', '함혜성', '황인구']\n",
      "==== 중복 인원수 ====\n",
      "2\n",
      "==== 중복 인원 ====\n",
      "['김용연', '전병주']\n",
      "\n"
     ]
    }
   ],
   "source": [
    "location = os.getcwd()\n",
    "\n",
    "fname_list = os.listdir(os.path.join(location, \"회의록_모음\"))\n",
    "file_list = glob.glob(os.path.join(location, \"회의록_모음/*\"))\n",
    "\n",
    "# 원하는 폴더 이름 설정.\n",
    "dir_name = \"단어 빈도 파일 중복 인물 통합\"\n",
    "createDirectory(dir_name)\n",
    "\n",
    "for i in range(len(fname_list)):\n",
    "    df = pd.read_csv(file_list[i], encoding = 'euc-kr')\n",
    "    print(fname_list[i][:-4])\n",
    "    show(df)"
   ]
  },
  {
   "cell_type": "markdown",
   "id": "9645f046",
   "metadata": {},
   "source": [
    "### 중복 인물이 아닌 동명이인일 수 있어서 해당 부분은 통합 원하는 파일을 설정하고 진행해야 함."
   ]
  },
  {
   "cell_type": "code",
   "execution_count": 9,
   "id": "32b9c25b",
   "metadata": {},
   "outputs": [],
   "source": [
    "# 파일이 존재하는 폴더 이름으로 경로설정해주고 불러와야 함.\n",
    "folder = \"위원 별 단어 빈도 분석\"\n",
    "loc = os.path.join(location, folder)\n",
    "\"\"\"\n",
    "원하는 년도에 따라 fname_list의 원소를 바꾸어 대입하자. -> fname_list는 위원 별 단어 빈도 분석의 폴더명과 같다는 전제하에 설정.\n",
    "결국 pick 변수에 들어갈 경로는 년도별 위원 별 단어 빈도 분석 폴더 경로여야 한다는 것을 기억해야 함.\n",
    "\"\"\" \n",
    "pick = os.path.join(loc, fname_list[0][:-4])\n",
    "\n",
    "# csv파일 이름은 직접 입력하기.\n",
    "f1 = pd.read_csv(os.path.join(pick, \"장인홍 위원.csv\"), encoding = 'euc-kr')\n",
    "f2 = pd.read_csv(os.path.join(pick, \"부위원장 장인홍.csv\"), encoding = 'euc-kr')\n",
    "result = freq_plus(f1, f2)\n",
    "\n",
    "# csv파일 이름은 직접 입력하기.\n",
    "result.to_csv(os.path.join(dir_name, \"장인홍_통합.csv\"), index = False, encoding = 'euc-kr')"
   ]
  },
  {
   "cell_type": "code",
   "execution_count": null,
   "id": "f9095d04",
   "metadata": {},
   "outputs": [],
   "source": []
  }
 ],
 "metadata": {
  "kernelspec": {
   "display_name": "Python 3 (ipykernel)",
   "language": "python",
   "name": "python3"
  },
  "language_info": {
   "codemirror_mode": {
    "name": "ipython",
    "version": 3
   },
   "file_extension": ".py",
   "mimetype": "text/x-python",
   "name": "python",
   "nbconvert_exporter": "python",
   "pygments_lexer": "ipython3",
   "version": "3.9.7"
  }
 },
 "nbformat": 4,
 "nbformat_minor": 5
}
