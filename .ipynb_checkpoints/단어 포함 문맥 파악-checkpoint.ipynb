{
 "cells": [
  {
   "cell_type": "code",
   "execution_count": 2,
   "id": "72c1456e",
   "metadata": {},
   "outputs": [],
   "source": [
    "import pandas as pd\n",
    "import os\n",
    "import glob\n",
    "import re\n",
    "from collections import Counter"
   ]
  },
  {
   "cell_type": "code",
   "execution_count": 3,
   "id": "709a8b43",
   "metadata": {},
   "outputs": [],
   "source": [
    "def createDirectory(directory): \n",
    "    \"\"\" 새로운 폴더를 생성하는 함수 \"\"\"\n",
    "    try: \n",
    "        if not os.path.exists(directory): \n",
    "            os.makedirs(directory) \n",
    "    except OSError: \n",
    "        print(\"Error: Failed to create the directory.\")"
   ]
  },
  {
   "cell_type": "code",
   "execution_count": 4,
   "id": "c3b46dec",
   "metadata": {},
   "outputs": [],
   "source": [
    "def find_index(speak, w):\n",
    "    \"\"\" 문자열 내 특정 문자열이 존재하는 모든 index를 찾는 함수 \"\"\"\n",
    "    idx = 0\n",
    "    li = []\n",
    "    while idx < len(speak):\n",
    "        word_idx = speak.find(w, idx)\n",
    "        if word_idx > -1:            \n",
    "            li.append(word_idx)\n",
    "            idx = word_idx + 1\n",
    "        else:\n",
    "            break\n",
    "    return li"
   ]
  },
  {
   "cell_type": "code",
   "execution_count": 5,
   "id": "6839d6d2",
   "metadata": {},
   "outputs": [],
   "source": [
    "def append_context(speak, pos, w):\n",
    "    \"\"\" 특정 문자열을 기준으로 앞 20글자까지 모아주는 함수 \"\"\"\n",
    "    word_length = len(w)\n",
    "    li = []\n",
    "    for p in pos:\n",
    "        if p > 20:        \n",
    "            li.append(speak[p - 20 : p + word_length])\n",
    "        else:            \n",
    "            li.append(speak[: p + word_length])\n",
    "    \n",
    "    return li"
   ]
  },
  {
   "cell_type": "code",
   "execution_count": 10,
   "id": "ad3baf9d",
   "metadata": {},
   "outputs": [
    {
     "name": "stdout",
     "output_type": "stream",
     "text": [
      "분석을 원하는 단어들을 띄어쓰기를 기준으로 입력하세요.\n",
      ">>> 법률 조례\n",
      "서울특별시의회 회의록 제277회[정례회] (2017.11.01 ~ 2017.12.20)_법률.csv 완료\n",
      "서울특별시의회 회의록 제284회[정례회] (2018.11.01 ~ 2018.12.20)_법률.csv 완료\n",
      "서울특별시의회 회의록 제290회[정례회] (2019.11.01 ~ 2019.12.20)_법률.csv 완료\n",
      "서울특별시의회 회의록 제298회[정례회](2020.11.02 ~ 2020.12.22)_법률.csv 완료\n",
      "서울특별시의회 회의록 제303회[정례회](2021.11.01 ~ 2021.12.27)_법률.csv 완료\n",
      "서울특별시의회 회의록 제277회[정례회] (2017.11.01 ~ 2017.12.20)_조례.csv 완료\n",
      "서울특별시의회 회의록 제284회[정례회] (2018.11.01 ~ 2018.12.20)_조례.csv 완료\n",
      "서울특별시의회 회의록 제290회[정례회] (2019.11.01 ~ 2019.12.20)_조례.csv 완료\n",
      "서울특별시의회 회의록 제298회[정례회](2020.11.02 ~ 2020.12.22)_조례.csv 완료\n",
      "서울특별시의회 회의록 제303회[정례회](2021.11.01 ~ 2021.12.27)_조례.csv 완료\n"
     ]
    }
   ],
   "source": [
    "location = os.getcwd()\n",
    "\n",
    "fname_list = os.listdir(os.path.join(location, \"회의록_모음\"))\n",
    "file_list = glob.glob(os.path.join(location, \"회의록_모음/*\"))\n",
    "\n",
    "# 원하는 폴더 이름 설정.\n",
    "dir_name = \"단어 포함 문맥 파악\"\n",
    "createDirectory(dir_name)\n",
    "dir_high = os.path.join(location, dir_name)\n",
    "\n",
    "# 현재 법률, 조례에 대해 다음과 같이 분석을 진행함. 원하는 항목 자유롭게 입력.\n",
    "print(\"분석을 원하는 단어들을 띄어쓰기를 기준으로 입력하세요.\")\n",
    "word_list = list(map(str, input(\">>> \").rstrip().split()))\n",
    "for word in word_list:\n",
    "    # 각 단어별 폴더 생성 위한 경로 설정\n",
    "    each_word_loc = os.path.join(dir_high, word)\n",
    "    createDirectory(each_word_loc)\n",
    "    for i in range(len(fname_list)):\n",
    "        df = pd.read_csv(file_list[i], encoding = 'euc-kr')\n",
    "\n",
    "        speak = df['발언내용'].to_list()\n",
    "        str_speak = ' '.join(speak)\n",
    "\n",
    "        indices = find_index(str_speak, word)\n",
    "        result = append_context(str_speak, indices, word)\n",
    "\n",
    "        pd.DataFrame(result, columns = [fname_list[i][:-4]]).to_csv(os.path.join(each_word_loc, '%s_%s.csv' % (fname_list[i][:-4], word)), index = False, encoding = 'euc-kr')\n",
    "        print('%s_%s.csv 완료' % (fname_list[i][:-4], word))"
   ]
  },
  {
   "cell_type": "code",
   "execution_count": null,
   "id": "474a9e3f",
   "metadata": {},
   "outputs": [],
   "source": []
  }
 ],
 "metadata": {
  "kernelspec": {
   "display_name": "Python 3 (ipykernel)",
   "language": "python",
   "name": "python3"
  },
  "language_info": {
   "codemirror_mode": {
    "name": "ipython",
    "version": 3
   },
   "file_extension": ".py",
   "mimetype": "text/x-python",
   "name": "python",
   "nbconvert_exporter": "python",
   "pygments_lexer": "ipython3",
   "version": "3.9.7"
  }
 },
 "nbformat": 4,
 "nbformat_minor": 5
}
