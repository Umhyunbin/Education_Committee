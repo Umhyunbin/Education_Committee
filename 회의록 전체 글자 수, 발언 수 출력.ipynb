{
 "cells": [
  {
   "cell_type": "code",
   "execution_count": 1,
   "id": "c589c978",
   "metadata": {},
   "outputs": [],
   "source": [
    "import pandas as pd\n",
    "import os\n",
    "import glob"
   ]
  },
  {
   "cell_type": "code",
   "execution_count": 2,
   "id": "66bd8195",
   "metadata": {},
   "outputs": [],
   "source": [
    "def all_length(f):\n",
    "    return len(' '.join(f['발언내용'].to_list()))"
   ]
  },
  {
   "cell_type": "code",
   "execution_count": 4,
   "id": "ff46976a",
   "metadata": {},
   "outputs": [
    {
     "name": "stdout",
     "output_type": "stream",
     "text": [
      "서울특별시의회 회의록 제277회[정례회] (2017.11.01 ~ 2017.12.20) 전체 글자 수 : 845360\n",
      "서울특별시의회 회의록 제277회[정례회] (2017.11.01 ~ 2017.12.20) 전체 발언 수 : 8006\n",
      "서울특별시의회 회의록 제284회[정례회] (2018.11.01 ~ 2018.12.20) 전체 글자 수 : 1011261\n",
      "서울특별시의회 회의록 제284회[정례회] (2018.11.01 ~ 2018.12.20) 전체 발언 수 : 11798\n",
      "서울특별시의회 회의록 제290회[정례회] (2019.11.01 ~ 2019.12.20) 전체 글자 수 : 1093647\n",
      "서울특별시의회 회의록 제290회[정례회] (2019.11.01 ~ 2019.12.20) 전체 발언 수 : 11850\n",
      "서울특별시의회 회의록 제298회[정례회](2020.11.02 ~ 2020.12.22) 전체 글자 수 : 667816\n",
      "서울특별시의회 회의록 제298회[정례회](2020.11.02 ~ 2020.12.22) 전체 발언 수 : 6535\n",
      "서울특별시의회 회의록 제303회[정례회](2021.11.01 ~ 2021.12.27) 전체 글자 수 : 618288\n",
      "서울특별시의회 회의록 제303회[정례회](2021.11.01 ~ 2021.12.27) 전체 발언 수 : 6040\n"
     ]
    }
   ],
   "source": [
    "location = os.getcwd()\n",
    "\n",
    "fname_list = os.listdir(os.path.join(location, \"회의록_모음\"))\n",
    "file_list = glob.glob(os.path.join(location, \"회의록_모음/*\"))\n",
    "\n",
    "for i in range(len(fname_list)):\n",
    "    df = pd.read_csv(file_list[i], encoding = 'euc-kr')\n",
    "    print(f\"{fname_list[i][:-4]} 전체 글자 수 : {all_length(df)}\")\n",
    "    print(f\"{fname_list[i][:-4]} 전체 발언 수 : {len(df)}\")"
   ]
  },
  {
   "cell_type": "code",
   "execution_count": null,
   "id": "57bcb695",
   "metadata": {},
   "outputs": [],
   "source": []
  }
 ],
 "metadata": {
  "kernelspec": {
   "display_name": "Python 3 (ipykernel)",
   "language": "python",
   "name": "python3"
  },
  "language_info": {
   "codemirror_mode": {
    "name": "ipython",
    "version": 3
   },
   "file_extension": ".py",
   "mimetype": "text/x-python",
   "name": "python",
   "nbconvert_exporter": "python",
   "pygments_lexer": "ipython3",
   "version": "3.9.7"
  }
 },
 "nbformat": 4,
 "nbformat_minor": 5
}
