{
 "cells": [
  {
   "cell_type": "code",
   "execution_count": null,
   "id": "24718409",
   "metadata": {},
   "outputs": [],
   "source": [
    "import pandas as pd\n",
    "import os\n",
    "import glob\n",
    "from konlpy.tag import Okt, Kkma, Komoran\n",
    "from collections import Counter"
   ]
  },
  {
   "cell_type": "code",
   "execution_count": null,
   "id": "1b583254",
   "metadata": {},
   "outputs": [],
   "source": [
    "def createDirectory(directory): \n",
    "    \"\"\" 새로운 폴더를 생성하는 함수 \"\"\"\n",
    "    try: \n",
    "        if not os.path.exists(directory): \n",
    "            os.makedirs(directory) \n",
    "    except OSError: \n",
    "        print(\"Error: Failed to create the directory.\")"
   ]
  },
  {
   "cell_type": "code",
   "execution_count": null,
   "id": "ce32ae23",
   "metadata": {},
   "outputs": [],
   "source": [
    "def analysis_noun(df, stopwords):\n",
    "    \"\"\" 명사를 추출하여 각 명사별 개수를 추출해주는 함수. \"\"\"\n",
    "    okt = Okt()\n",
    "    # kkm = Kkma()\n",
    "    # kom = Komoran()\n",
    "    li_nouns = []\n",
    "\n",
    "    for i in range(len(df['발언내용'])):\n",
    "        line = df.iloc[i, 9]\n",
    "        nouns = okt.nouns(line)    \n",
    "        #nouns = kkm.nouns(line) \n",
    "        # nouns = kom.nouns(line)\n",
    "        li_nouns += [j for j in nouns if len(j) >= 2 and j not in stopwords]\n",
    "        \n",
    "    count_nouns = Counter(li_nouns)\n",
    "    \n",
    "    return count_nouns"
   ]
  },
  {
   "cell_type": "code",
   "execution_count": null,
   "id": "4366bdee",
   "metadata": {},
   "outputs": [],
   "source": [
    "def make_df(c):\n",
    "    \"\"\" 정해진 포맷에 맞게 데이터프레임을 생성해주는 함수. \"\"\"\n",
    "    d = pd.DataFrame.from_dict(c, orient='index').reset_index()\n",
    "    d.columns = ['단어', '빈도수']\n",
    "    \n",
    "    count_column = df['회수']\n",
    "    d = pd.concat([d, count_column], axis = 1).dropna()\n",
    "    d = d[['회수', '단어', '빈도수']]\n",
    "    \n",
    "    return d  "
   ]
  },
  {
   "cell_type": "code",
   "execution_count": null,
   "id": "ebd23a2a",
   "metadata": {},
   "outputs": [],
   "source": [
    "location = os.getcwd()\n",
    "\n",
    "fname_list = os.listdir(os.path.join(location, \"회의록_모음\"))\n",
    "file_list = glob.glob(os.path.join(location, \"회의록_모음/*\"))\n",
    "\n",
    "# 원하는 폴더 이름 설정.\n",
    "dir_name = \"단어 빈도 분석\"\n",
    "createDirectory(dir_name)\n",
    "\n",
    "s = pd.read_excel(\"불용어사전_통합본.xlsx\")\n",
    "stopwords_1_2 = set(s['단어'])\n",
    "for i in range(len(fname_list)):\n",
    "    df = pd.read_csv(file_list[i], encoding = 'euc-kr')\n",
    "    result = analysis_noun(df, stopwords_1_2)\n",
    "    result_df = make_df(result)\n",
    "\n",
    "    name = fname_list[i][:-4]  \n",
    "    result_df.to_csv(os.path.join(os.path.join(location, dir_name), name + \"_\" + dir_name + \".csv\"), index = False, encoding = 'euc-kr')\n",
    "    print(\"%s 단어분석 완료\" % name)"
   ]
  }
 ],
 "metadata": {
  "celltoolbar": "Raw Cell Format",
  "kernelspec": {
   "display_name": "Python 3 (ipykernel)",
   "language": "python",
   "name": "python3"
  },
  "language_info": {
   "codemirror_mode": {
    "name": "ipython",
    "version": 3
   },
   "file_extension": ".py",
   "mimetype": "text/x-python",
   "name": "python",
   "nbconvert_exporter": "python",
   "pygments_lexer": "ipython3",
   "version": "3.10.3"
  }
 },
 "nbformat": 4,
 "nbformat_minor": 5
}
