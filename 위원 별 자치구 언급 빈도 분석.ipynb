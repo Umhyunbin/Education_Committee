{
 "cells": [
  {
   "cell_type": "code",
   "execution_count": 7,
   "id": "6f11410b",
   "metadata": {},
   "outputs": [],
   "source": [
    "import pandas as pd\n",
    "import os\n",
    "import glob\n",
    "import re\n",
    "from collections import Counter"
   ]
  },
  {
   "cell_type": "code",
   "execution_count": 9,
   "id": "eaebe4b8",
   "metadata": {},
   "outputs": [],
   "source": [
    "def createDirectory(directory): \n",
    "    \"\"\" 새로운 폴더를 생성하는 함수 \"\"\"\n",
    "    try: \n",
    "        if not os.path.exists(directory): \n",
    "            os.makedirs(directory) \n",
    "    except OSError: \n",
    "        print(\"Error: Failed to create the directory.\")"
   ]
  },
  {
   "cell_type": "code",
   "execution_count": 2,
   "id": "6c717f66",
   "metadata": {},
   "outputs": [],
   "source": [
    "def make_long_format(d):\n",
    "    \"\"\" 데이터프레임을 long format으로 변환하는 함수 \"\"\"\n",
    "    \n",
    "    df = pd.DataFrame.from_dict(d).rename_axis('자치구').reset_index()\n",
    "    df.fillna(0, inplace = True)\n",
    "    df = pd.melt(df, id_vars = ['자치구'], var_name = '이름', value_name = '빈도')\n",
    "    df['빈도'] = df['빈도'].astype('int')\n",
    "    df.drop(df[df['빈도'] == 0].index, inplace = True)\n",
    "    df = df.reindex(columns = ['이름', '자치구', '빈도'])\n",
    "    \n",
    "    return df \n",
    "            "
   ]
  },
  {
   "cell_type": "code",
   "execution_count": 3,
   "id": "508f72ee",
   "metadata": {},
   "outputs": [],
   "source": [
    "# 서울특별시 자치구 목록. 규모가 작아 리스트 직접 제작. \n",
    "borough = ['강남구', '강동구', '강북구', '강서구', '관악구', '광진구', '구로구',\n",
    "              '금천구', '노원구', '도봉구', '동대문구', '동작구', '마포구', '서대문구',\n",
    "              '서초구', '성동구', '성북구', '송파구', '양천구', '영등포구', '용산구',\n",
    "              '은평구', '종로구', '중구', '중랑구']"
   ]
  },
  {
   "cell_type": "code",
   "execution_count": 10,
   "id": "856aa4be",
   "metadata": {},
   "outputs": [
    {
     "name": "stdout",
     "output_type": "stream",
     "text": [
      "서울특별시의회 회의록 제277회[정례회] (2017.11.01 ~ 2017.12.20)_자치구.csv 완료\n",
      "서울특별시의회 회의록 제284회[정례회] (2018.11.01 ~ 2018.12.20)_자치구.csv 완료\n",
      "서울특별시의회 회의록 제290회[정례회] (2019.11.01 ~ 2019.12.20)_자치구.csv 완료\n",
      "서울특별시의회 회의록 제298회[정례회](2020.11.02 ~ 2020.12.22)_자치구.csv 완료\n",
      "서울특별시의회 회의록 제303회[정례회](2021.11.01 ~ 2021.12.27)_자치구.csv 완료\n"
     ]
    }
   ],
   "source": [
    "location = os.getcwd()\n",
    "\n",
    "fname_list = os.listdir(os.path.join(location, \"회의록_모음\"))\n",
    "file_list = glob.glob(os.path.join(location, \"회의록_모음/*\"))\n",
    "\n",
    "# 원하는 폴더 이름 설정.\n",
    "dir_name = \"위원 별 자치구 언급 빈도 분석\"\n",
    "createDirectory(dir_name)\n",
    "\n",
    "for i in range(len(fname_list)):\n",
    "    df = pd.read_csv(file_list[i], encoding = 'euc-kr')\n",
    "\n",
    "    person_dict = {}\n",
    "    for j in range(len(df)):\n",
    "        person = df.iloc[j, 7]\n",
    "        line = df.iloc[j, 9]\n",
    "\n",
    "        for k in range(len(borough)):\n",
    "            b = borough[k]\n",
    "            if b in line:\n",
    "                cnt = line.count(b)\n",
    "                if person in person_dict:\n",
    "                    if b in person_dict[person]:\n",
    "                        person_dict[person][b] += cnt\n",
    "                    else:\n",
    "                        person_dict[person][b] = cnt\n",
    "                else:\n",
    "                    person_dict[person] = {b : cnt}\n",
    "\n",
    "    make_long_format(person_dict).to_csv(os.path.join(dir_name, \"%s_자치구.csv\" % fname_list[i][:-4]), index = False, encoding = 'euc-kr')\n",
    "    print(\"%s_자치구.csv 완료\" % fname_list[i][:-4])"
   ]
  },
  {
   "cell_type": "code",
   "execution_count": null,
   "id": "6c5b9344",
   "metadata": {},
   "outputs": [],
   "source": []
  }
 ],
 "metadata": {
  "kernelspec": {
   "display_name": "Python 3 (ipykernel)",
   "language": "python",
   "name": "python3"
  },
  "language_info": {
   "codemirror_mode": {
    "name": "ipython",
    "version": 3
   },
   "file_extension": ".py",
   "mimetype": "text/x-python",
   "name": "python",
   "nbconvert_exporter": "python",
   "pygments_lexer": "ipython3",
   "version": "3.9.7"
  }
 },
 "nbformat": 4,
 "nbformat_minor": 5
}
