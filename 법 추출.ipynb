{
 "cells": [
  {
   "cell_type": "code",
   "execution_count": 1,
   "id": "46a2ff9e",
   "metadata": {},
   "outputs": [],
   "source": [
    "import pandas as pd\n",
    "import os\n",
    "import glob\n",
    "import re\n",
    "from collections import Counter"
   ]
  },
  {
   "cell_type": "code",
   "execution_count": 2,
   "id": "7ec5009d",
   "metadata": {},
   "outputs": [],
   "source": [
    "def createDirectory(directory): \n",
    "    \"\"\" 새로운 폴더를 생성하는 함수 \"\"\"\n",
    "    try: \n",
    "        if not os.path.exists(directory): \n",
    "            os.makedirs(directory) \n",
    "    except OSError: \n",
    "        print(\"Error: Failed to create the directory.\")"
   ]
  },
  {
   "cell_type": "code",
   "execution_count": 3,
   "id": "6f738ba7",
   "metadata": {},
   "outputs": [],
   "source": [
    "def make_df(c):\n",
    "    \"\"\" 정해진 포맷에 맞게 데이터프레임을 생성해주는 함수. \"\"\"\n",
    "    d = pd.DataFrame.from_dict(c, orient='index').reset_index()\n",
    "    d.columns = ['단어', '빈도수']\n",
    "    \n",
    "    count_column = df['회수']\n",
    "    d = pd.concat([d, count_column], axis = 1).dropna()\n",
    "    d = d[['회수', '단어', '빈도수']]\n",
    "    \n",
    "    return d  "
   ]
  },
  {
   "cell_type": "code",
   "execution_count": 4,
   "id": "6ce9437a",
   "metadata": {},
   "outputs": [],
   "source": [
    "location = os.getcwd()\n",
    "\n",
    "fname_list = os.listdir(os.path.join(location, \"회의록_모음\"))\n",
    "file_list = glob.glob(os.path.join(location, \"회의록_모음/*\"))\n",
    "\n",
    "# 원하는 폴더 이름 설정.\n",
    "dir_name = \"법 추출\"\n",
    "createDirectory(dir_name)\n",
    "\n",
    "for i in range(len(fname_list)):\n",
    "    df = pd.read_csv(file_list[i], encoding = 'euc-kr')\n",
    "    \n",
    "    speak = df['발언내용'].to_list()\n",
    "    str_speak = ' '.join(speak)\n",
    "\n",
    "    law = re.findall('[ㄱ-힣]+법', str_speak)\n",
    "    \n",
    "    make_df(Counter(law)).to_csv(os.path.join(os.path.join(location, dir_name),'%s_법_개수.csv' % fname_list[i][:-4]), index = False, encoding = 'euc-kr')"
   ]
  },
  {
   "cell_type": "code",
   "execution_count": null,
   "id": "58afef96",
   "metadata": {},
   "outputs": [],
   "source": []
  }
 ],
 "metadata": {
  "kernelspec": {
   "display_name": "Python 3 (ipykernel)",
   "language": "python",
   "name": "python3"
  },
  "language_info": {
   "codemirror_mode": {
    "name": "ipython",
    "version": 3
   },
   "file_extension": ".py",
   "mimetype": "text/x-python",
   "name": "python",
   "nbconvert_exporter": "python",
   "pygments_lexer": "ipython3",
   "version": "3.9.7"
  }
 },
 "nbformat": 4,
 "nbformat_minor": 5
}
