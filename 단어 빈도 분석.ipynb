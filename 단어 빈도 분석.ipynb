{
 "cells": [
  {
   "cell_type": "code",
   "execution_count": 2,
   "id": "24718409",
   "metadata": {},
   "outputs": [],
   "source": [
    "import pandas as pd\n",
    "import os\n",
    "import glob\n",
    "from konlpy.tag import Okt, Kkma, Komoran\n",
    "from collections import Counter"
   ]
  },
  {
   "cell_type": "code",
   "execution_count": 3,
   "id": "1b583254",
   "metadata": {},
   "outputs": [],
   "source": [
    "def createDirectory(directory): \n",
    "    \"\"\" 새로운 폴더를 생성하는 함수 \"\"\"\n",
    "    try: \n",
    "        if not os.path.exists(directory): \n",
    "            os.makedirs(directory) \n",
    "    except OSError: \n",
    "        print(\"Error: Failed to create the directory.\")"
   ]
  },
  {
   "cell_type": "code",
   "execution_count": 4,
   "id": "ce32ae23",
   "metadata": {},
   "outputs": [],
   "source": [
    "def analysis_noun(df, stopwords):\n",
    "    \"\"\" 명사를 추출하여 각 명사별 개수를 추출해주는 함수. \"\"\"\n",
    "    okt = Okt()\n",
    "    # kkm = Kkma()\n",
    "    # kom = Komoran()\n",
    "    li_nouns = []\n",
    "\n",
    "    for i in range(len(df['발언내용'])):\n",
    "        line = df.iloc[i, 9]\n",
    "    \n",
    "        nouns = okt.nouns(line)    \n",
    "        #nouns = kkm.nouns(line) \n",
    "        # nouns = kom.nouns(line)\n",
    "        nouns = [j for j in nouns if len(j) >= 2 and j not in stopwords]\n",
    "        li_nouns += nouns\n",
    "        \n",
    "    count_nouns = Counter(li_nouns)\n",
    "    \n",
    "    return count_nouns"
   ]
  },
  {
   "cell_type": "code",
   "execution_count": 5,
   "id": "4366bdee",
   "metadata": {},
   "outputs": [],
   "source": [
    "def make_df(c):\n",
    "    \"\"\" 정해진 포맷에 맞게 데이터프레임을 생성해주는 함수. \"\"\"\n",
    "    d = pd.DataFrame.from_dict(c, orient='index').reset_index()\n",
    "    d.columns = ['단어', '빈도수']\n",
    "    \n",
    "    count_column = df['회수']\n",
    "    d = pd.concat([d, count_column], axis = 1).dropna()\n",
    "    d = d[['회수', '단어', '빈도수']]\n",
    "    \n",
    "    return d  "
   ]
  },
  {
   "cell_type": "code",
   "execution_count": 6,
   "id": "ebd23a2a",
   "metadata": {},
   "outputs": [
    {
     "name": "stdout",
     "output_type": "stream",
     "text": [
      "서울특별시의회 회의록 제277회[정례회] (2017.11.01 ~ 2017.12.20) 단어분석 완료\n",
      "서울특별시의회 회의록 제284회[정례회] (2018.11.01 ~ 2018.12.20) 단어분석 완료\n",
      "서울특별시의회 회의록 제290회[정례회] (2019.11.01 ~ 2019.12.20) 단어분석 완료\n",
      "서울특별시의회 회의록 제298회[정례회](2020.11.02 ~ 2020.12.22) 단어분석 완료\n",
      "서울특별시의회 회의록 제303회[정례회](2021.11.01 ~ 2021.12.27) 단어분석 완료\n"
     ]
    }
   ],
   "source": [
    "location = os.getcwd()\n",
    "\n",
    "fname_list = os.listdir(os.path.join(location, \"회의록_모음\"))\n",
    "file_list = glob.glob(os.path.join(location, \"회의록_모음/*\"))\n",
    "\n",
    "# 원하는 폴더 이름 설정.\n",
    "dir_name = \"단어 빈도 분석\"\n",
    "createDirectory(dir_name)\n",
    "\n",
    "s = pd.read_csv(\"불용어사전_통합본.csv\", encoding = 'euc-kr')\n",
    "stopwords_1_2 = set(s['불용어'])\n",
    "for i in range(len(fname_list)):\n",
    "    df = pd.read_csv(file_list[i], encoding = 'euc-kr')\n",
    "    result = analysis_noun(df, stopwords_1_2)\n",
    "    result_df = make_df(result)\n",
    "\n",
    "    name = fname_list[i][:-4]  \n",
    "    result_df.to_csv(os.path.join(os.path.join(location, dir_name), name + \"_\" + dir_name + \".csv\"), index = False, encoding = 'euc-kr')\n",
    "    print(\"%s 단어분석 완료\" % name)"
   ]
  },
  {
   "cell_type": "code",
   "execution_count": null,
   "id": "8871524a",
   "metadata": {},
   "outputs": [],
   "source": []
  }
 ],
 "metadata": {
  "kernelspec": {
   "display_name": "Python 3 (ipykernel)",
   "language": "python",
   "name": "python3"
  },
  "language_info": {
   "codemirror_mode": {
    "name": "ipython",
    "version": 3
   },
   "file_extension": ".py",
   "mimetype": "text/x-python",
   "name": "python",
   "nbconvert_exporter": "python",
   "pygments_lexer": "ipython3",
   "version": "3.9.7"
  }
 },
 "nbformat": 4,
 "nbformat_minor": 5
}
