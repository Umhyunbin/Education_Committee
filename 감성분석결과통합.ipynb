{
 "cells": [
  {
   "cell_type": "code",
   "execution_count": null,
   "id": "ce353396",
   "metadata": {},
   "outputs": [],
   "source": [
    "import pandas as pd\n",
    "import os"
   ]
  },
  {
   "cell_type": "code",
   "execution_count": null,
   "id": "5069a18a",
   "metadata": {},
   "outputs": [],
   "source": [
    "original = pd.read_csv(\"서울특별시의회 회의록 제303회[정례회](2021.11.01 ~ 2021.12.27).csv\", encoding = 'euc-kr')\n",
    "original"
   ]
  },
  {
   "cell_type": "code",
   "execution_count": null,
   "id": "beb2ced3",
   "metadata": {},
   "outputs": [],
   "source": [
    "loc = os.getcwd()\n",
    "join_dir = os.path.join(loc, \"질문답변자 조인\")\n",
    "train = pd.read_excel(os.path.join(join_dir, \"train.xlsx\"))\n",
    "train"
   ]
  },
  {
   "cell_type": "code",
   "execution_count": null,
   "id": "0f568c1d",
   "metadata": {},
   "outputs": [],
   "source": [
    "test = pd.read_csv(os.path.join(join_dir, \"2021_감정분석_test_ver2.csv\"), encoding = 'euc-kr')\n",
    "test"
   ]
  },
  {
   "cell_type": "code",
   "execution_count": null,
   "id": "28bc4733",
   "metadata": {},
   "outputs": [],
   "source": [
    "train_test = pd.concat([train, test])\n",
    "train_test"
   ]
  },
  {
   "cell_type": "code",
   "execution_count": null,
   "id": "3aab569a",
   "metadata": {},
   "outputs": [],
   "source": [
    "# 발언 내용이 unique key의 역할을 할 수 없지만, 다른 key를 추출할 수 없어 병합 후 중복 제거하는 방식으로 진행.\n",
    "# 회의일자, 발언 순번을 key로 이용하는 방식으로 보완 가능. \n",
    "result = pd.merge(original, train_test, how = 'left', on = ['발언내용'])\n",
    "result"
   ]
  },
  {
   "cell_type": "code",
   "execution_count": null,
   "id": "1e0b155f",
   "metadata": {},
   "outputs": [],
   "source": [
    "result.to_csv(\"2021감성분석_중복제거.csv\", encoding = 'euc-kr')"
   ]
  },
  {
   "cell_type": "code",
   "execution_count": null,
   "id": "649cb3f6",
   "metadata": {},
   "outputs": [],
   "source": [
    "result['flag'] = True\n",
    "result"
   ]
  },
  {
   "cell_type": "code",
   "execution_count": null,
   "id": "c51264af",
   "metadata": {},
   "outputs": [],
   "source": [
    "for i in range(1, len(result)):\n",
    "    if (result.iloc[i - 1, 6] == result.iloc[i, 6]) & (result.iloc[i - 1, 8] == result.iloc[i, 8]):\n",
    "        result.iloc[i, 12] = False\n",
    "result_final = result[result['flag']]\n",
    "result_final"
   ]
  },
  {
   "cell_type": "code",
   "execution_count": null,
   "id": "f8284794",
   "metadata": {},
   "outputs": [],
   "source": [
    "result_final.to_csv(\"2021_감성분석_최종.csv\", index = False, encoding = 'euc-kr')"
   ]
  },
  {
   "cell_type": "code",
   "execution_count": null,
   "id": "22292592",
   "metadata": {},
   "outputs": [],
   "source": [
    "# 학습 데이터 셋 선정을 위한 결과 비교"
   ]
  },
  {
   "cell_type": "code",
   "execution_count": null,
   "id": "f9a6c714",
   "metadata": {},
   "outputs": [],
   "source": [
    "result_part = pd.read_csv(os.path.join(join_dir, \"2020_감정분석_test.csv\"), encoding = \"euc-kr\")\n",
    "result_all = pd.read_csv(os.path.join(join_dir, \"2020_감정분석_test_all_ver.csv\"), encoding = \"euc-kr\")"
   ]
  },
  {
   "cell_type": "code",
   "execution_count": null,
   "id": "78b35c2c",
   "metadata": {},
   "outputs": [],
   "source": [
    "diff = []\n",
    "for i in range(len(result_part)):\n",
    "    if result_part.iloc[i, 1] != result_all.iloc[i, 1]:\n",
    "        diff.append([result_part.iloc[i, 0], result_part.iloc[i, 1], result_all.iloc[i, 1]])\n",
    "diff_df = pd.DataFrame(diff, columns = ['발언내용', '2021일부', '2021전체'])\n",
    "diff_df.to_csv(os.path.join(join_dir, \"2020 학습결과 비교.csv\"), index = False, encoding = 'euc-kr')"
   ]
  },
  {
   "cell_type": "code",
   "execution_count": null,
   "id": "dabed3d8",
   "metadata": {},
   "outputs": [],
   "source": [
    "result_final = pd.read_csv(\"2021_감성분석_통합본.csv\", encoding = 'euc-kr')\n",
    "result_final"
   ]
  },
  {
   "cell_type": "code",
   "execution_count": null,
   "id": "01e0ba59",
   "metadata": {},
   "outputs": [],
   "source": [
    "person = list(result_final['발언자'].unique())\n",
    "person"
   ]
  },
  {
   "cell_type": "code",
   "execution_count": null,
   "id": "75871019",
   "metadata": {},
   "outputs": [],
   "source": [
    "d = []\n",
    "for p in person:\n",
    "    tmp = result_final[result_final['발언자'] == p]\n",
    "    pos = len(tmp[tmp['감정'] == '긍정'])\n",
    "    neu = len(tmp[tmp['감정'] == '중립'])\n",
    "    neg = len(tmp[tmp['감정'] == '부정'])\n",
    "    try:\n",
    "        ratio = (pos / (pos + neg)) * 100\n",
    "    except ZeroDivisionError:\n",
    "        ratio = 0\n",
    "    d.append([p, pos, neu, neg, ratio])\n",
    "print(d)"
   ]
  },
  {
   "cell_type": "code",
   "execution_count": null,
   "id": "02bfc8b4",
   "metadata": {},
   "outputs": [],
   "source": [
    "sent_ratio = pd.DataFrame(d, columns = ['발언자', '긍정', '중립', '부정', '감성지수'])\n",
    "sent_ratio['감성지수'] = sent_ratio['감성지수'].apply(round)"
   ]
  },
  {
   "cell_type": "code",
   "execution_count": null,
   "id": "e138dcab",
   "metadata": {},
   "outputs": [],
   "source": [
    "sent_ratio.to_csv(\"2021_감성지수_산출_중립포함.csv\", index = False, encoding = 'euc-kr')\n",
    "# 중복 위원 있음."
   ]
  },
  {
   "cell_type": "code",
   "execution_count": null,
   "id": "e2282bef",
   "metadata": {},
   "outputs": [],
   "source": []
  }
 ],
 "metadata": {
  "kernelspec": {
   "display_name": "Python 3 (ipykernel)",
   "language": "python",
   "name": "python3"
  },
  "language_info": {
   "codemirror_mode": {
    "name": "ipython",
    "version": 3
   },
   "file_extension": ".py",
   "mimetype": "text/x-python",
   "name": "python",
   "nbconvert_exporter": "python",
   "pygments_lexer": "ipython3",
   "version": "3.10.3"
  }
 },
 "nbformat": 4,
 "nbformat_minor": 5
}
