{
 "cells": [
  {
   "cell_type": "code",
   "execution_count": 9,
   "id": "0a354201",
   "metadata": {},
   "outputs": [],
   "source": [
    "import pandas as pd\n",
    "import os\n",
    "import glob\n",
    "from konlpy.tag import Okt, Kkma, Komoran\n",
    "from sklearn.feature_extraction.text import TfidfVectorizer\n",
    "from sklearn.decomposition import LatentDirichletAllocation"
   ]
  },
  {
   "cell_type": "code",
   "execution_count": 10,
   "id": "f03ede83",
   "metadata": {},
   "outputs": [],
   "source": [
    "def createDirectory(directory): \n",
    "    \"\"\" 새로운 폴더를 생성하는 함수 \"\"\"\n",
    "    try: \n",
    "        if not os.path.exists(directory): \n",
    "            os.makedirs(directory) \n",
    "    except OSError: \n",
    "        print(\"Error: Failed to create the directory.\")"
   ]
  },
  {
   "cell_type": "code",
   "execution_count": 20,
   "id": "a8d7fc23",
   "metadata": {},
   "outputs": [],
   "source": [
    "def get_topics(components, feature_names, n=10):\n",
    "    topic_all = []\n",
    "    for idx, topic in enumerate(components):\n",
    "        topic_all.append([[idx, feature_names[i], topic[i].round(2)] for i in topic.argsort()[:-n - 1:-1]])\n",
    "    return topic_all"
   ]
  },
  {
   "cell_type": "code",
   "execution_count": 25,
   "id": "87b7741d",
   "metadata": {},
   "outputs": [],
   "source": [
    "class LDA:\n",
    "    \"\"\" Latent Dirichlet Allocation 이용. \"\"\"\n",
    "    def __init__(self, f, stop):\n",
    "        self.df = f\n",
    "        self.stopword = stop\n",
    "    def preprocessing(self):\n",
    "        \"\"\"\n",
    "        Okt 이용하여 명사만 추출한 뒤, 불용어사전에 없고 단어 길이 >= 2 인 경우만 추가.\n",
    "        \"\"\"\n",
    "        okt = Okt()\n",
    "        text = self.df.copy()[['발언내용']]\n",
    "        text['발언내용'] = text.apply(lambda row: okt.nouns(row['발언내용']), axis = 1)\n",
    "        tokenized_doc = text['발언내용'].apply(lambda x: [w for w in x if w not in (self.stopword) and len(w) >= 2])\n",
    "        \n",
    "        return tokenized_doc\n",
    "    def topic_modeling(self, t):\n",
    "        \"\"\" \n",
    "        역토큰화 시킨 다음, LDA 모델을 이용하여 토픽 모델링 실시. \n",
    "        \"\"\"\n",
    "        re_tokenized = [' '.join(t[i]) for i in range(len(self.df))]\n",
    "    \n",
    "        vectorizer = TfidfVectorizer(stop_words = self.stopword, max_features = 1000)\n",
    "        X = vectorizer.fit_transform(re_tokenized)\n",
    "        lda_model = LatentDirichletAllocation(n_components = 10, learning_method = 'online', random_state = 777, max_iter = 25)\n",
    "        lda_top = lda_model.fit_transform(X)\n",
    "        terms = vectorizer.get_feature_names_out()\n",
    "        result = get_topics(lda_model.components_,terms)\n",
    "        print(result)\n",
    "        "
   ]
  },
  {
   "cell_type": "code",
   "execution_count": 26,
   "id": "5e599314",
   "metadata": {},
   "outputs": [
    {
     "name": "stdout",
     "output_type": "stream",
     "text": [
      "[[[0, '다시', 41.55], [0, '징계', 34.71], [0, '계약', 32.96], [0, '업체', 32.67], [0, '교장', 29.9], [0, '건가', 28.46], [0, '선생님', 28.28], [0, '성언', 27.25], [0, '대해', 24.1], [0, '방과후', 23.81]], [[1, '시설', 56.25], [1, '안전', 35.38], [1, '집행', 31.7], [1, '시오', 27.28], [1, '이지', 26.57], [1, '기관', 24.93], [1, '예산', 24.66], [1, '사업', 24.38], [1, '별로', 23.96], [1, '사고', 23.9]], [[2, '그게', 40.13], [2, '형주', 25.48], [2, '여러', 22.82], [2, '별도', 21.25], [2, '지원', 20.96], [2, '제출', 20.81], [2, '체크', 20.79], [2, '자리', 19.36], [2, '이해', 18.91], [2, '지침', 18.6]], [[3, '원장', 50.24], [3, '거지', 44.43], [3, '인원', 36.15], [3, '부위', 34.55], [3, '정원', 34.16], [3, '장인', 30.39], [3, '미달', 20.49], [3, '설명', 19.92], [3, '차이', 18.51], [3, '서울시', 17.8]], [[4, '때문', 71.57], [4, '정도', 68.39], [4, '대해', 56.15], [4, '실장', 55.65], [4, '담당', 49.86], [4, '행정', 46.02], [4, '거기', 37.47], [4, '인력', 35.13], [4, '협력', 31.61], [4, '예산', 31.01]], [[5, '예산', 71.85], [5, '운영', 38.12], [5, '편성', 30.99], [5, '위탁', 29.7], [5, '절차', 27.57], [5, '어쨌든', 19.0], [5, '고용', 18.44], [5, '용역', 18.0], [5, '심의', 17.25], [5, '채용', 15.22]], [[6, '교육', 125.76], [6, '평가', 66.66], [6, '유치원', 62.11], [6, '운영', 54.89], [6, '정책', 47.7], [6, '위원회', 46.33], [6, '진로', 43.1], [6, '대해', 42.51], [6, '고등학교', 40.81], [6, '지역', 36.01]], [[7, '도서관', 46.75], [7, '양천', 31.3], [7, '김경자', 31.16], [7, '법인', 28.82], [7, '김동욱', 24.87], [7, '조치', 21.5], [7, '건물', 21.09], [7, '상태', 18.88], [7, '부지', 17.97], [7, '제도', 16.79]], [[8, '선발', 22.11], [8, '가요', 16.23], [8, '건강', 16.18], [8, '양해', 14.31], [8, '종합', 13.48], [8, '통보', 13.1], [8, '하라', 12.87], [8, '시험', 12.77], [8, '구분', 12.71], [8, '보건', 12.61]], [[9, '자료', 75.77], [9, '교육부', 36.48], [9, '요구', 35.47], [9, '지적', 27.76], [9, '센터', 24.08], [9, '고요', 20.8], [9, '추가', 18.87], [9, '구체', 17.8], [9, '보충', 16.72], [9, '초등학교', 16.28]]]\n"
     ]
    }
   ],
   "source": [
    "location = os.getcwd()\n",
    "\n",
    "fname_list = os.listdir(os.path.join(location, \"회의록_모음\"))\n",
    "file_list = glob.glob(os.path.join(location, \"회의록_모음/*\"))\n",
    "\n",
    "# 원하는 폴더 이름 설정.\n",
    "dir_name = \"LDA\"\n",
    "createDirectory(dir_name)\n",
    "stopwords_1_2 = pd.read_excel(\"불용어사전_통합본.xlsx\")\n",
    "\n",
    "for i in range(len(fname_list)):\n",
    "    df = pd.read_csv(file_list[i], encoding = 'euc-kr')\n",
    "    lda = LDA(df, stopwords_1_2)\n",
    "    tokenized = lda.preprocessing()\n",
    "    lda.topic_modeling(tokenized)\n",
    "    break"
   ]
  },
  {
   "cell_type": "code",
   "execution_count": null,
   "id": "f2c1f41a",
   "metadata": {},
   "outputs": [],
   "source": []
  }
 ],
 "metadata": {
  "kernelspec": {
   "display_name": "Python 3 (ipykernel)",
   "language": "python",
   "name": "python3"
  },
  "language_info": {
   "codemirror_mode": {
    "name": "ipython",
    "version": 3
   },
   "file_extension": ".py",
   "mimetype": "text/x-python",
   "name": "python",
   "nbconvert_exporter": "python",
   "pygments_lexer": "ipython3",
   "version": "3.9.7"
  }
 },
 "nbformat": 4,
 "nbformat_minor": 5
}
