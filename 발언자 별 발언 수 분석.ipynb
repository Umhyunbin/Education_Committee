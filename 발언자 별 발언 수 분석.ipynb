{
 "cells": [
  {
   "cell_type": "code",
   "execution_count": 3,
   "id": "f622c1fa",
   "metadata": {},
   "outputs": [],
   "source": [
    "import pandas as pd\n",
    "import os\n",
    "import glob"
   ]
  },
  {
   "cell_type": "code",
   "execution_count": 4,
   "id": "2b0fb361",
   "metadata": {},
   "outputs": [],
   "source": [
    "def createDirectory(directory): \n",
    "    \"\"\" 새로운 폴더를 생성하는 함수 \"\"\"\n",
    "    try: \n",
    "        if not os.path.exists(directory): \n",
    "            os.makedirs(directory) \n",
    "    except OSError: \n",
    "        print(\"Error: Failed to create the directory.\")"
   ]
  },
  {
   "cell_type": "code",
   "execution_count": 9,
   "id": "6b96234a",
   "metadata": {},
   "outputs": [],
   "source": [
    "location = os.getcwd()\n",
    "\"\"\"\n",
    "os.listdir -> 폴더 내 파일의 이름만을 가져오기 위함.\n",
    "glob.glob ->  조건에 맞는 파일명을 경로를 포함하여 가져오기 위함.\n",
    "ex) glob.glob('dir/*.txt') -> 모든 txt파일 가져옴.\n",
    "* -> 임의 길이의 모든 문자열.\n",
    "\"\"\"\n",
    "fname_list = os.listdir(os.path.join(location, \"회의록_모음\"))\n",
    "file_list = glob.glob(os.path.join(location, \"회의록_모음/*\"))\n",
    "\n",
    "# 원하는 폴더 이름 설정.\n",
    "dir_name = \"발언자 별 발언 수\"\n",
    "createDirectory(dir_name)\n",
    "\n",
    "for i in range(len(fname_list)):\n",
    "    df = pd.read_csv(file_list[i], encoding = 'euc-kr')    \n",
    "    df_count = pd.DataFrame(df['발언자'].value_counts()).reset_index()    \n",
    "    df_count.columns = ['발언자', '발언수']    \n",
    "    df_count['회수'] = df['회수']    \n",
    "    df_count = df_count[['회수', '발언자', '발언수']]    \n",
    "    \n",
    "    f = fname_list[i][:-4]\n",
    "    df_count.to_csv(os.path.join(os.path.join(location, dir_name), f + \"_\" + dir_name + \".csv\"), index = False, encoding = 'euc-kr')"
   ]
  },
  {
   "cell_type": "code",
   "execution_count": null,
   "id": "746720d5",
   "metadata": {},
   "outputs": [],
   "source": []
  }
 ],
 "metadata": {
  "kernelspec": {
   "display_name": "Python 3 (ipykernel)",
   "language": "python",
   "name": "python3"
  },
  "language_info": {
   "codemirror_mode": {
    "name": "ipython",
    "version": 3
   },
   "file_extension": ".py",
   "mimetype": "text/x-python",
   "name": "python",
   "nbconvert_exporter": "python",
   "pygments_lexer": "ipython3",
   "version": "3.9.7"
  }
 },
 "nbformat": 4,
 "nbformat_minor": 5
}
